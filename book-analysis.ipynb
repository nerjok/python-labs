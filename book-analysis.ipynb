{
 "cells": [
  {
   "cell_type": "markdown",
   "id": "0f07d883-0c51-4c19-9ad9-6a714756f3c3",
   "metadata": {},
   "source": [
    "# Load the book"
   ]
  },
  {
   "cell_type": "code",
   "execution_count": 3,
   "id": "f01dbe32-3f1c-49a5-b698-d96c2237edf4",
   "metadata": {},
   "outputs": [],
   "source": [
    "with open(\"src/files/miracle_in_the_andes.txt\", \"r\") as file:\n",
    "    book= file.read()"
   ]
  },
  {
   "cell_type": "code",
   "execution_count": null,
   "id": "0b94a79d",
   "metadata": {},
   "outputs": [],
   "source": []
  },
  {
   "cell_type": "code",
   "execution_count": 4,
   "id": "e216710f-d8fd-4f9b-819c-c1a7e1feb5bf",
   "metadata": {},
   "outputs": [
    {
     "data": {
      "text/plain": [
       "str"
      ]
     },
     "execution_count": 4,
     "metadata": {},
     "output_type": "execute_result"
    }
   ],
   "source": [
    "type(book)"
   ]
  },
  {
   "cell_type": "markdown",
   "id": "70a4e32b-3cb9-4adf-99a0-6c372bc2180a",
   "metadata": {},
   "source": [
    "# How many chapter"
   ]
  },
  {
   "cell_type": "markdown",
   "id": "ab1d4f79-9df3-4edd-97fb-57f1720a622d",
   "metadata": {},
   "source": [
    "### With string methods"
   ]
  },
  {
   "cell_type": "code",
   "execution_count": 6,
   "id": "b62a4ca1-8c4f-43bd-9a52-fcc6db0dd10c",
   "metadata": {},
   "outputs": [
    {
     "data": {
      "text/plain": [
       "11"
      ]
     },
     "execution_count": 6,
     "metadata": {},
     "output_type": "execute_result"
    }
   ],
   "source": [
    "book.count(\"Chapter\")"
   ]
  },
  {
   "cell_type": "markdown",
   "id": "1c7fd074-6b45-438e-af5f-ec162795ae7f",
   "metadata": {},
   "source": [
    "### With regular expression"
   ]
  },
  {
   "cell_type": "code",
   "execution_count": 7,
   "id": "bda55335-5525-4476-9cf6-124fafc4d50f",
   "metadata": {},
   "outputs": [],
   "source": [
    "import re"
   ]
  },
  {
   "cell_type": "code",
   "execution_count": 10,
   "id": "65d643f6-1443-45df-a278-69ade193960b",
   "metadata": {},
   "outputs": [
    {
     "data": {
      "text/plain": [
       "10"
      ]
     },
     "execution_count": 10,
     "metadata": {},
     "output_type": "execute_result"
    }
   ],
   "source": [
    "pattern = re.compile(\"Chapter [0-9]+\")\n",
    "findings = re.findall(pattern, book)\n",
    "len(findings)"
   ]
  },
  {
   "cell_type": "code",
   "execution_count": null,
   "id": "2fb08aad-15bb-4221-9a8c-9b00b8c044c6",
   "metadata": {},
   "outputs": [],
   "source": [
    "### Which a re sentences wher e \"love\" word was used"
   ]
  },
  {
   "cell_type": "code",
   "execution_count": 79,
   "id": "461196fa-533f-4823-9cbc-b7e8bf35f898",
   "metadata": {},
   "outputs": [
    {
     "data": {
      "text/plain": [
       "67"
      ]
     },
     "execution_count": 79,
     "metadata": {},
     "output_type": "execute_result"
    }
   ],
   "source": [
    "# pattern = re.compile(\"[a-zA-Z ,]* love [a-zA-Z ,]* \")\n",
    "pattern = re.compile(\"[A-Z]{1}[^.]* love[^a-zA-z][^.]*.\")\n",
    "findings = re.findall(pattern, book)\n",
    "findings\n",
    "len(findings)"
   ]
  },
  {
   "cell_type": "code",
   "execution_count": 21,
   "id": "c82f5b64-1659-431e-85b5-dcadd818a1d7",
   "metadata": {},
   "outputs": [],
   "source": [
    "### Most used words"
   ]
  },
  {
   "cell_type": "code",
   "execution_count": 24,
   "id": "510bff5c-0a6e-4d15-83f5-a033fe43805a",
   "metadata": {},
   "outputs": [
    {
     "data": {
      "text/plain": [
       "['Chapter', 'Before', 'IT', 'WAS', 'FRIDAY']"
      ]
     },
     "execution_count": 24,
     "metadata": {},
     "output_type": "execute_result"
    }
   ],
   "source": [
    "pattern = re.compile(\"[a-zA-Z]+\" )\n",
    "findings = re.findall(pattern, book)\n",
    "findings[:5]"
   ]
  },
  {
   "cell_type": "code",
   "execution_count": 78,
   "id": "5f54426a-1772-4cd5-bbe3-84027f8f64a2",
   "metadata": {},
   "outputs": [
    {
     "data": {
      "text/plain": [
       "[(5013, 'the'), (2740, 'and'), (2729, 'I'), (2368, 'to'), (2053, 'of')]"
      ]
     },
     "execution_count": 78,
     "metadata": {},
     "output_type": "execute_result"
    }
   ],
   "source": [
    "d = {}\n",
    "for word in findings:\n",
    "    if word in d.keys():\n",
    "        d[word] = d[word] + 1\n",
    "    else:\n",
    "        d[word] = 1\n",
    "d_list = [(value, key) for (key, value) in d.items()]\n",
    "sorted_list = sorted(d_list, reverse=True, key=lambda tup: +tup[0])\n",
    "sorted_list[:5]\n"
   ]
  },
  {
   "cell_type": "code",
   "execution_count": 90,
   "id": "02298d5e-b4c2-4b02-bc7f-b5f00ba594bc",
   "metadata": {},
   "outputs": [
    {
     "data": {
      "text/plain": [
       "['a', 'about', 'above', 'after', 'again', 'against', 'ain', 'all', 'am', 'an']"
      ]
     },
     "execution_count": 90,
     "metadata": {},
     "output_type": "execute_result"
    }
   ],
   "source": [
    "import nltk\n",
    "\n",
    "from nltk.corpus import stopwords\n",
    "# nltk.download('stopwords')\n",
    "english_stopwords = stopwords.words(\"english\")\n",
    "english_stopwords[:10]\n"
   ]
  },
  {
   "cell_type": "code",
   "execution_count": 95,
   "id": "01bfd663-3cf4-41f9-af0a-7c83eef0459a",
   "metadata": {},
   "outputs": [
    {
     "data": {
      "text/plain": [
       "[('Chapter', 10),\n",
       " ('Before', 9),\n",
       " ('IT', 1),\n",
       " ('WAS', 3),\n",
       " ('FRIDAY', 1),\n",
       " ('thirteenth', 1),\n",
       " ('October', 7),\n",
       " ('We', 333),\n",
       " ('joked', 3),\n",
       " ('flying', 14),\n",
       " ('Andes', 79),\n",
       " ('unlucky', 1),\n",
       " ('day', 87),\n",
       " ('young', 34),\n",
       " ('men', 23),\n",
       " ('make', 87),\n",
       " ('kinds', 3),\n",
       " ('jokes', 3),\n",
       " ('easily', 8),\n",
       " ('Our', 46)]"
      ]
     },
     "execution_count": 95,
     "metadata": {},
     "output_type": "execute_result"
    }
   ],
   "source": [
    "filtered_words = []\n",
    "for count, word in d_list:\n",
    "    if word not in english_stopwords:\n",
    "        filtered_words.append((word, count))\n",
    "filtered_words[:20]"
   ]
  },
  {
   "cell_type": "code",
   "execution_count": null,
   "id": "a80fd22a-d027-4d07-8524-1ad2144a3e04",
   "metadata": {},
   "outputs": [],
   "source": []
  },
  {
   "cell_type": "code",
   "execution_count": 96,
   "id": "bfde58f0-62da-447d-9e01-0ee7d9e5acf9",
   "metadata": {},
   "outputs": [],
   "source": [
    "### Sentiment analysis\n"
   ]
  },
  {
   "cell_type": "code",
   "execution_count": 99,
   "id": "a54b9a38-e7f5-40cc-a6d5-2725d5d77e5c",
   "metadata": {},
   "outputs": [
    {
     "name": "stderr",
     "output_type": "stream",
     "text": [
      "[nltk_data] Downloading package vader_lexicon to\n",
      "[nltk_data]     /home/nerjok/nltk_data...\n"
     ]
    },
    {
     "data": {
      "text/plain": [
       "True"
      ]
     },
     "execution_count": 99,
     "metadata": {},
     "output_type": "execute_result"
    }
   ],
   "source": [
    "from nltk.sentiment import SentimentIntensityAnalyzer\n",
    "# nltk.download('vader_lexicon')"
   ]
  },
  {
   "cell_type": "code",
   "execution_count": 104,
   "id": "2bc84bb1-0ce1-4d74-a9de-1b0d5074040c",
   "metadata": {},
   "outputs": [],
   "source": [
    "analyzer = SentimentIntensityAnalyzer()\n",
    "scores = analyzer.polarity_scores(\"Hey look how beutiful trees are. I love them.\")"
   ]
  },
  {
   "cell_type": "code",
   "execution_count": 105,
   "id": "1b76a87a-ec98-4a72-887e-c9f01847de38",
   "metadata": {},
   "outputs": [
    {
     "data": {
      "text/plain": [
       "{'neg': 0.0, 'neu': 0.625, 'pos': 0.375, 'compound': 0.6369}"
      ]
     },
     "execution_count": 105,
     "metadata": {},
     "output_type": "execute_result"
    }
   ],
   "source": [
    "scores"
   ]
  },
  {
   "cell_type": "code",
   "execution_count": 108,
   "id": "072a0f51-e6ca-4b4d-a276-8622e0d932f4",
   "metadata": {},
   "outputs": [
    {
     "data": {
      "text/plain": [
       "{'neg': 0.116, 'neu': 0.76, 'pos': 0.125, 'compound': 1.0}"
      ]
     },
     "execution_count": 108,
     "metadata": {},
     "output_type": "execute_result"
    }
   ],
   "source": [
    "book_scores = analyzer.polarity_scores(book)\n",
    "book_scores"
   ]
  },
  {
   "cell_type": "code",
   "execution_count": 119,
   "id": "2c656b4e-1d13-4f79-8fc7-e4fc706375f1",
   "metadata": {},
   "outputs": [],
   "source": [
    "pattern = re.compile(\"Chapter [0-9]+\")\n",
    "chapters = re.split(pattern, book)\n",
    "chapters = chapters[1:]\n",
    "# chapters"
   ]
  },
  {
   "cell_type": "code",
   "execution_count": 120,
   "id": "f23e807d-ee85-47b1-9ade-6b62a0cc04e3",
   "metadata": {},
   "outputs": [
    {
     "name": "stdout",
     "output_type": "stream",
     "text": [
      "{'neg': 0.061, 'neu': 0.779, 'pos': 0.16, 'compound': 1.0}\n",
      "{'neg': 0.12, 'neu': 0.726, 'pos': 0.154, 'compound': 0.9991}\n",
      "{'neg': 0.145, 'neu': 0.751, 'pos': 0.105, 'compound': -0.9999}\n",
      "{'neg': 0.141, 'neu': 0.721, 'pos': 0.138, 'compound': -0.9963}\n",
      "{'neg': 0.118, 'neu': 0.742, 'pos': 0.141, 'compound': 0.9997}\n",
      "{'neg': 0.124, 'neu': 0.761, 'pos': 0.115, 'compound': -0.9979}\n",
      "{'neg': 0.136, 'neu': 0.761, 'pos': 0.103, 'compound': -0.9999}\n",
      "{'neg': 0.12, 'neu': 0.786, 'pos': 0.094, 'compound': -0.9998}\n",
      "{'neg': 0.097, 'neu': 0.824, 'pos': 0.079, 'compound': -0.9996}\n",
      "{'neg': 0.086, 'neu': 0.733, 'pos': 0.181, 'compound': 1.0}\n"
     ]
    }
   ],
   "source": [
    "for chapter in chapters:\n",
    "    score = analyzer.polarity_scores(chapter)\n",
    "    print(score)"
   ]
  }
 ],
 "metadata": {
  "kernelspec": {
   "display_name": "Python 3 (ipykernel)",
   "language": "python",
   "name": "python3"
  },
  "language_info": {
   "codemirror_mode": {
    "name": "ipython",
    "version": 3
   },
   "file_extension": ".py",
   "mimetype": "text/x-python",
   "name": "python",
   "nbconvert_exporter": "python",
   "pygments_lexer": "ipython3",
   "version": "3.12.3"
  }
 },
 "nbformat": 4,
 "nbformat_minor": 5
}
